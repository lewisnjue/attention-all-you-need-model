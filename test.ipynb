{
 "cells": [
  {
   "cell_type": "code",
   "execution_count": 1,
   "id": "307d88f9",
   "metadata": {},
   "outputs": [
    {
     "name": "stderr",
     "output_type": "stream",
     "text": [
      "/workspaces/attention-all-you-need-model/env/lib/python3.12/site-packages/torch/_subclasses/functional_tensor.py:276: UserWarning: Failed to initialize NumPy: No module named 'numpy' (Triggered internally at /pytorch/torch/csrc/utils/tensor_numpy.cpp:81.)\n",
      "  cpu = _conversion_method_template(device=torch.device(\"cpu\"))\n"
     ]
    }
   ],
   "source": [
    "import torch \n",
    "from main import Translator"
   ]
  },
  {
   "cell_type": "code",
   "execution_count": 2,
   "id": "846c416c",
   "metadata": {},
   "outputs": [],
   "source": [
    "model = Translator()"
   ]
  },
  {
   "cell_type": "code",
   "execution_count": 6,
   "id": "f1143d2a",
   "metadata": {},
   "outputs": [
    {
     "data": {
      "text/plain": [
       "tensor([[[-0.1269, -0.0403,  0.2495,  ...,  0.1901,  1.2855, -0.1594],\n",
       "         [ 0.0029,  0.8161,  0.5264,  ...,  0.0497,  0.0236,  0.0125],\n",
       "         [ 0.3292,  1.9226,  0.0761,  ...,  0.8708,  0.6566, -0.0453],\n",
       "         ...,\n",
       "         [-0.6842,  0.8695, -0.5137,  ..., -0.6346, -0.0356, -0.3683],\n",
       "         [-0.5977,  0.9059, -0.1908,  ...,  0.7877, -0.4837, -0.3876],\n",
       "         [ 0.0457,  1.6980,  0.5320,  ...,  0.8032, -0.0344, -0.1861]]],\n",
       "       grad_fn=<ViewBackward0>)"
      ]
     },
     "execution_count": 6,
     "metadata": {},
     "output_type": "execute_result"
    }
   ],
   "source": [
    "input_tensor = torch.randint(low=0, high=100, size=(1, 8), dtype=torch.int)\n",
    "model(input_tensor)"
   ]
  },
  {
   "cell_type": "code",
   "execution_count": 5,
   "id": "8fadbf68",
   "metadata": {},
   "outputs": [
    {
     "name": "stdout",
     "output_type": "stream",
     "text": [
      "tensor([[30, 55, 84,  8, 33, 94, 64, 58]], dtype=torch.int32)\n"
     ]
    }
   ],
   "source": [
    "input_tensor = torch.randint(low=0, high=100, size=(1, 8), dtype=torch.int)\n",
    "print(input_tensor)"
   ]
  },
  {
   "cell_type": "code",
   "execution_count": null,
   "id": "0ec1c793",
   "metadata": {},
   "outputs": [],
   "source": []
  }
 ],
 "metadata": {
  "kernelspec": {
   "display_name": "env",
   "language": "python",
   "name": "python3"
  },
  "language_info": {
   "codemirror_mode": {
    "name": "ipython",
    "version": 3
   },
   "file_extension": ".py",
   "mimetype": "text/x-python",
   "name": "python",
   "nbconvert_exporter": "python",
   "pygments_lexer": "ipython3",
   "version": "3.12.1"
  }
 },
 "nbformat": 4,
 "nbformat_minor": 5
}
