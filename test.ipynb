{
 "cells": [
  {
   "cell_type": "code",
   "execution_count": 1,
   "id": "307d88f9",
   "metadata": {},
   "outputs": [
    {
     "name": "stderr",
     "output_type": "stream",
     "text": [
      "/workspaces/attention-all-you-need-model/env/lib/python3.12/site-packages/torch/_subclasses/functional_tensor.py:276: UserWarning: Failed to initialize NumPy: No module named 'numpy' (Triggered internally at /pytorch/torch/csrc/utils/tensor_numpy.cpp:81.)\n",
      "  cpu = _conversion_method_template(device=torch.device(\"cpu\"))\n"
     ]
    }
   ],
   "source": [
    "import torch \n",
    "from model import Translator"
   ]
  },
  {
   "cell_type": "code",
   "execution_count": 2,
   "id": "846c416c",
   "metadata": {},
   "outputs": [],
   "source": [
    "model = Translator()"
   ]
  },
  {
   "cell_type": "code",
   "execution_count": 3,
   "id": "f1143d2a",
   "metadata": {},
   "outputs": [
    {
     "name": "stdout",
     "output_type": "stream",
     "text": [
      "torch.Size([1, 8])\n"
     ]
    }
   ],
   "source": [
    "input_tensor = torch.randint(low=0, high=100, size=(1, 8), dtype=torch.int)\n",
    "print(input_tensor.shape)"
   ]
  },
  {
   "cell_type": "code",
   "execution_count": 4,
   "id": "8fadbf68",
   "metadata": {},
   "outputs": [
    {
     "name": "stdout",
     "output_type": "stream",
     "text": [
      "torch.Size([1, 8])\n"
     ]
    }
   ],
   "source": [
    "input_tensor = torch.randint(low=0, high=100, size=(1, 8), dtype=torch.int)\n",
    "print(input_tensor.shape)"
   ]
  },
  {
   "cell_type": "code",
   "execution_count": 12,
   "id": "0ec1c793",
   "metadata": {},
   "outputs": [],
   "source": [
    "logits , loss = model(input_tensor,model.generate(input_tensor,max_length=100)) "
   ]
  },
  {
   "cell_type": "code",
   "execution_count": 15,
   "id": "80d19629",
   "metadata": {},
   "outputs": [
    {
     "data": {
      "text/plain": [
       "(torch.int32, torch.int64)"
      ]
     },
     "execution_count": 15,
     "metadata": {},
     "output_type": "execute_result"
    }
   ],
   "source": [
    "input_tensor.dtype, model.generate(input_tensor,max_length=100).dtype"
   ]
  },
  {
   "cell_type": "code",
   "execution_count": null,
   "id": "979ff4e5",
   "metadata": {},
   "outputs": [],
   "source": []
  }
 ],
 "metadata": {
  "kernelspec": {
   "display_name": "env",
   "language": "python",
   "name": "python3"
  },
  "language_info": {
   "codemirror_mode": {
    "name": "ipython",
    "version": 3
   },
   "file_extension": ".py",
   "mimetype": "text/x-python",
   "name": "python",
   "nbconvert_exporter": "python",
   "pygments_lexer": "ipython3",
   "version": "3.12.1"
  }
 },
 "nbformat": 4,
 "nbformat_minor": 5
}
